{
 "cells": [
  {
   "cell_type": "markdown",
   "metadata": {},
   "source": [
    "# Memória, Variáveis, Comunicação e Estado de um Programa\n",
    "\n",
    "Há várias possíveis estratégias para usar a memória de um computador para se realizar a comunicação entre partes dele -- por exemplo, entre duas funções -- e para se manter o **estado atual** de execução de um programa. Dentre elas, podemos destacar o uso de variáveis locais, globais e parâmetros entre funções.\n",
    "\n",
    "Vamos fazer aqui um exercício nesse contexto e você será conduzido a experimentar cada uma dessas estratégias, mesmo que em algumas ocasiões não seja a forma recomendada de se desenvolver um programa.\n",
    "\n",
    "\n",
    "# Exercício do Empréstimo\n",
    "\n",
    "Em um financiamento com juros compostos e número de parcelas fixas parte-se dos seguintes parâmetros:\n",
    "* `S` - valor da primeira parcela\n",
    "* `N` - número de parcelas\n",
    "* `J` - percentual de juros mensal\n",
    "\n",
    "A primeira parcela a ser paga do financiamento é sempre igual a `S`. A partir daí é feita uma atualização mensal da parcela, em que cada nova parcela é calculada a partir da parcela do mês anterior, conforme a fórmula:\n",
    "\n",
    "> #### Parcela<sub>mês</sub> = Parcela<sub>mês-1</sub> * (1 + `J` / 100)\n",
    "\n",
    "O financiamento encerra quando as `N` parcelas são pagas.\n",
    "\n",
    "Exemplo:\n",
    "* `S`: 200\n",
    "* `N`: 5\n",
    "* `J`: 1%\n",
    "\n",
    "Parcelas do financiamento:\n",
    "`200`; `202`; `204.02`; `206.06`; `208.12`"
   ]
  },
  {
   "cell_type": "markdown",
   "metadata": {},
   "source": [
    "## Exercício Parte 1 - Escrevendo um Módulo\n",
    "\n",
    "Dado o problema descrito, escreva um programa que calcule as parcelas de um empréstimo para os seguintes valores:\n",
    "* `S`: 200\n",
    "* `N`: 5\n",
    "* `J`: 1%"
   ]
  },
  {
   "cell_type": "code",
   "execution_count": null,
   "metadata": {},
   "outputs": [],
   "source": [
    "#include <stdio.h>\n",
    "\n",
    "int main(){\n",
    "    double primeiraParcela = 200.00, juros = 0.01;\n",
    "    double valorFinal = primeiraParcela;\n",
    "    int numeroParcelas = 5;\n",
    "    \n",
    "    for(int i = 1; i <= 5; i++){\n",
    "        printf(\"Parcerla %d: R$%.2lf\\n\", i, valorFinal);\n",
    "        valorFinal = valorFinal + (valorFinal * juros);\n",
    "    }\n",
    "}"
   ]
  },
  {
   "cell_type": "markdown",
   "metadata": {},
   "source": [
    "## Exercício Parte 2 - Escrevendo um Módulo (Função)\n",
    "\n",
    "Reescreva o código acima de forma que seu programa faça uso de uma função `proximaParcela` que seja responsável pelo cálculo de uma única parcela X do empréstimo. Utilize as boas práticas de modularização que você aprendeu, evitando dependências do módulo com o programa principal. A função deve apenas calcular uma única parcela, portanto, ficará a cargo da função principal que chama `proximaParcela` realizar o restante do processo, para que sejam apresentadas todas as parcelas do financiamento."
   ]
  },
  {
   "cell_type": "code",
   "execution_count": 16,
   "metadata": {},
   "outputs": [
    {
     "name": "stdout",
     "output_type": "stream",
     "text": [
      "Parcerla 1: R$200.00\n",
      "Parcerla 2: R$202.00\n",
      "Parcerla 3: R$204.02\n",
      "Parcerla 4: R$206.06\n",
      "Parcerla 5: R$208.12\n"
     ]
    }
   ],
   "source": [
    "#include <stdio.h>\n",
    "\n",
    "double proximaParcela(double valor, double juros){\n",
    "    return (valor + (valor*juros));\n",
    "}\n",
    "\n",
    "int main(){\n",
    "    double primeiraParcela = 200.00, juros = 0.01;\n",
    "    double valorFinal = primeiraParcela;\n",
    "    int numeroParcelas = 5, i = 1;\n",
    "    \n",
    "    while(numeroParcelas > 0){\n",
    "        printf(\"Parcerla %d: R$%.2lf\\n\", i, valorFinal);\n",
    "        valorFinal = proximaParcela(valorFinal, juros);\n",
    "        numeroParcelas--;\n",
    "        i++;\n",
    "    }\n",
    "}"
   ]
  },
  {
   "cell_type": "markdown",
   "metadata": {},
   "source": [
    "## Exercício Parte 3 - Mantendo o Estado\n",
    "\n",
    "Modifique a função (módulo) `proximaParcela` acima de modo que ela tenha uma memória da situação em que estão as coisas, sem que o `main` precise ficar informando novamente coisas que já informou no início. Para isso serão permitidas as seguintes modificações:\n",
    "\n",
    "1. você pode desmembrar a função em mais de uma, por exemplo, uma você chama no começo do empréstimo e outra a cada parcela;\n",
    "\n",
    "2. você pode usar técnicas de uso de variáveis não recomendadas que geram dependência dos módulos com o programa principal.\n",
    "\n",
    "Você deve organizar o código de tal maneira que o `main` informe para as funções os dados do financiamento apenas uma única vez e depois possa solicitar o cálculo da parcela subsequente sem informar tudo novamente."
   ]
  },
  {
   "cell_type": "code",
   "execution_count": 17,
   "metadata": {},
   "outputs": [
    {
     "name": "stdout",
     "output_type": "stream",
     "text": [
      "Parcerla 1: R$200.00\n",
      "Parcerla 2: R$202.00\n",
      "Parcerla 3: R$204.02\n",
      "Parcerla 4: R$206.06\n",
      "Parcerla 5: R$208.12\n"
     ]
    }
   ],
   "source": [
    "#include <stdio.h>\n",
    "\n",
    "double proximaParcela(double valor, double juros){\n",
    "    return (valor + (valor*juros));\n",
    "}\n",
    "\n",
    "int main(){\n",
    "    double primeiraParcela = 200.00, juros = 0.01;\n",
    "    double valorFinal = primeiraParcela;\n",
    "    int numeroParcelas = 5, i = 1;\n",
    "    \n",
    "    while(numeroParcelas > 0){\n",
    "        printf(\"Parcerla %d: R$%.2lf\\n\", i, valorFinal);\n",
    "        valorFinal = proximaParcela(valorFinal, juros);\n",
    "        numeroParcelas--;\n",
    "        i++;\n",
    "    }\n",
    "}"
   ]
  },
  {
   "cell_type": "markdown",
   "metadata": {},
   "source": [
    "## Exercício Parte 4 - Minimizando os Parâmetros\n",
    "\n",
    "Retomando a solução da `Parte 2`, em que a função `main` deve ter usado vários parâmetros para a comunicação com a função `proximaParcela`,  modifique a forma como você representa o empréstimo, de forma que a função `proximaParcela` receba sempre um único parâmetro capaz de representar o estado completo do empréstimo."
   ]
  },
  {
   "cell_type": "code",
   "execution_count": 18,
   "metadata": {},
   "outputs": [
    {
     "name": "stdout",
     "output_type": "stream",
     "text": [
      "Parcerla 1: R$200.00\n",
      "Parcerla 2: R$202.00\n",
      "Parcerla 3: R$204.02\n",
      "Parcerla 4: R$206.06\n",
      "Parcerla 5: R$208.12\n"
     ]
    }
   ],
   "source": [
    "#include <stdio.h>\n",
    "#include <stdlib.h>\n",
    "\n",
    "typedef struct{\n",
    "    double valor;\n",
    "    double juros;\n",
    "    int numeroParcelas;\n",
    "    int parcelaAtual;\n",
    "} Emprestimo;\n",
    "\n",
    "void proximaParcela(Emprestimo *emprestimo){\n",
    "    emprestimo->valor = emprestimo->valor + (emprestimo->valor * emprestimo->juros);\n",
    "}\n",
    "\n",
    "Emprestimo * inicializar(){\n",
    "    Emprestimo *emprestimo = malloc(sizeof(Emprestimo));\n",
    "    emprestimo->valor = 200.00;\n",
    "    emprestimo->juros = 0.01;\n",
    "    emprestimo->numeroParcelas = 5;\n",
    "    emprestimo->parcelaAtual = 1;\n",
    "    \n",
    "    return emprestimo;\n",
    "}\n",
    "\n",
    "void atualizarParcela(Emprestimo *emprestimo){\n",
    "    emprestimo->parcelaAtual++;\n",
    "}\n",
    "\n",
    "int main(){\n",
    "    Emprestimo *emprestimo = inicializar();\n",
    "    \n",
    "    while(emprestimo->numeroParcelas >= emprestimo->parcelaAtual){\n",
    "        printf(\"Parcerla %d: R$%.2lf\\n\", emprestimo->parcelaAtual, emprestimo->valor);\n",
    "        proximaParcela(emprestimo);\n",
    "        atualizarParcela(emprestimo);\n",
    "    }\n",
    "}"
   ]
  },
  {
   "cell_type": "markdown",
   "metadata": {},
   "source": [
    "## Exercício Parte 5 - Múltiplos Empréstimos\n",
    "\n",
    "Considere que há múltiplos empréstimos que podem ser controlados em paralelo. A sua função `main` deve ser capaz de apresentar no console as parcelas de mais de um empréstimo de modo paralelo, mantendo um controle para cada empréstimo separadamente. Você deve decidir qual das soluções tomará como ponto de partida, se deve modificar a função `main`, a função `proximaParcela` ou ambas para atender esse requisito da melhor forma possível.\n",
    "\n",
    "Adote uma solução compacta e generalizável, de tal modo que, cada novo empréstimo só exija a informação dos parâmetros de partida, sem expansão do código.\n",
    "\n",
    "Por exemplo, suponha os seguintes dois empréstimos em paralelo:\n",
    "\n",
    "### Empréstimo 1\n",
    "* `S`: 200\n",
    "* `N`: 5\n",
    "* `J`: 1%\n",
    "\n",
    "### Empréstimo 2\n",
    "* `S`: 500\n",
    "* `N`: 7\n",
    "* `J`: 2%\n",
    "\n",
    "A saída esperada é:\n",
    "~~~\n",
    "Emprestimo 1: parcela 1 eh 200.00\n",
    "Emprestimo 2: parcela 1 eh 500.00\n",
    "Emprestimo 1: parcela 2 eh 202.00\n",
    "Emprestimo 2: parcela 2 eh 510.00\n",
    "Emprestimo 1: parcela 3 eh 204.02\n",
    "Emprestimo 2: parcela 3 eh 520.20\n",
    "Emprestimo 1: parcela 4 eh 206.06\n",
    "Emprestimo 2: parcela 4 eh 530.60\n",
    "Emprestimo 1: parcela 5 eh 208.12\n",
    "Emprestimo 2: parcela 5 eh 541.22\n",
    "Emprestimo 2: parcela 6 eh 552.04\n",
    "Emprestimo 2: parcela 7 eh 563.08\n",
    "~~~\n",
    "\n",
    "O exemplo mostra dois empréstimos, mas a estrutura deve ser genérica o suficiente para controlar N empréstimos em paralelo."
   ]
  },
  {
   "cell_type": "code",
   "execution_count": null,
   "metadata": {},
   "outputs": [],
   "source": [
    "#include <stdio.h>\n",
    "#include <stdlib.h>\n",
    "\n",
    "typedef struct{\n",
    "    double valor;\n",
    "    double juros;\n",
    "    int numeroParcelas;\n",
    "    int parcelaAtual;\n",
    "} Emprestimo;\n",
    "\n",
    "void proximaParcela(Emprestimo *emprestimo){\n",
    "    emprestimo->valor = emprestimo->valor + (emprestimo->valor * emprestimo->juros);\n",
    "}\n",
    "\n",
    "Emprestimo * inicializar(double valor, double juros, double numeroParcelas){\n",
    "    Emprestimo *emprestimo = malloc(sizeof(Emprestimo));\n",
    "    emprestimo->valor = valor;\n",
    "    emprestimo->juros = juros;\n",
    "    emprestimo->numeroParcelas = numeroParcelas;\n",
    "    emprestimo->parcelaAtual = 1;\n",
    "    \n",
    "    return emprestimo;\n",
    "}\n",
    "\n",
    "void atualizarParcela(Emprestimo *emprestimo){\n",
    "    emprestimo->parcelaAtual++;\n",
    "}\n",
    "\n",
    "int main(){\n",
    "    Emprestimo *emprestimo1 = inicializar(200.00, 0.01, 5);\n",
    "    Emprestimo *emprestimo2 = inicializar(500.00, 0.02, 7);\n",
    "    \n",
    "    while(emprestimo1->numeroParcelas != emprestimo1->parcelaAtual || emprestimo2->numeroParcelas != emprestimo2->parcelaAtual){\n",
    "        if(emprestimo1->numeroParcelas >= emprestimo1->parcelaAtual){\n",
    "            printf(\"Empréstimo 1: parcerla %d eh R$%.2lf\\n\", emprestimo1->parcelaAtual, emprestimo1->valor);\n",
    "            proximaParcela(emprestimo1);\n",
    "            atualizarParcela(emprestimo1);\n",
    "        }\n",
    "        if(emprestimo2->numeroParcelas >= emprestimo2->parcelaAtual){\n",
    "            printf(\"Empréstimo 2: parcerla %d eh R$%.2lf\\n\", emprestimo2->parcelaAtual, emprestimo2->valor);\n",
    "            proximaParcela(emprestimo2);\n",
    "            atualizarParcela(emprestimo2);\n",
    "        }\n",
    "    }\n",
    "}"
   ]
  }
 ],
 "metadata": {
  "kernelspec": {
   "display_name": "C",
   "language": "c",
   "name": "c"
  },
  "language_info": {
   "file_extension": ".c",
   "mimetype": "text/plain",
   "name": "c"
  }
 },
 "nbformat": 4,
 "nbformat_minor": 4
}
